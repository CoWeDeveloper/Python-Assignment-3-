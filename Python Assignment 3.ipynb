{
 "cells": [
  {
   "cell_type": "code",
   "execution_count": 18,
   "id": "a34be540",
   "metadata": {},
   "outputs": [
    {
     "name": "stdout",
     "output_type": "stream",
     "text": [
      "Twinkle, twinkle, little star,\n",
      "\tHow i wonder what you are!\n",
      "\t\tUp above the world so high,\n",
      "\t\tlike a diamond in the sky.\n",
      "Twinkle twinkle, little star,\n",
      "\tHow i wonder what you are\n",
      "\n",
      "Twinkle, twinkle, little star,\n",
      "\tHow i wonder what you are!\n",
      "\t\tUp above the world so high,\n",
      "\t\tlike a diamond in the sky.\n",
      "Twinkle, twinkle, little star,\n",
      "\tHow i wonder what you are\n"
     ]
    }
   ],
   "source": [
    "# Write a Python program to print the following string in a specific \n",
    "# format (see the  output).\n",
    "# Method 1\n",
    "print(\"Twinkle, twinkle, little star,\")\n",
    "print(\"\\tHow i wonder what you are!\")\n",
    "print(\"\\t\\tUp above the world so high,\")\n",
    "print(\"\\t\\tlike a diamond in the sky.\")\n",
    "print(\"Twinkle twinkle, little star,\")\n",
    "print(\"\\tHow i wonder what you are\")\n",
    "\n",
    "# Method 2 \n",
    "print(\"\\nTwinkle, twinkle, little star,\\n\\tHow i wonder what you are!\\n\\t\\tUp above the world so high,\\n\\t\\tlike a diamond in the sky.\\nTwinkle, twinkle, little star,\\n\\tHow i wonder what you are\")"
   ]
  },
  {
   "cell_type": "code",
   "execution_count": 24,
   "id": "61356e41",
   "metadata": {},
   "outputs": [
    {
     "name": "stdout",
     "output_type": "stream",
     "text": [
      "3.8.8 (default, Apr 13 2021, 15:08:03) [MSC v.1916 64 bit (AMD64)]\n"
     ]
    }
   ],
   "source": [
    "# 2. Write a Python program to get the Python version you are using\n",
    "# Method 1\n",
    "# write python -v in command prompt\n",
    "# Method 2\n",
    "import sys\n",
    "\n",
    "print(sys.version)\n"
   ]
  },
  {
   "cell_type": "code",
   "execution_count": 25,
   "id": "6b1a8d8b",
   "metadata": {},
   "outputs": [
    {
     "name": "stdout",
     "output_type": "stream",
     "text": [
      "Current date and time : \n",
      "2021-10-24 11:36:35\n"
     ]
    }
   ],
   "source": [
    "# 3. Write a Python program to display the current date and time.\n",
    "import datetime\n",
    "now = datetime.datetime.now()\n",
    "print (\"Current date and time : \")\n",
    "print (now.strftime(\"%Y-%m-%d %H:%M:%S\"))\n"
   ]
  },
  {
   "cell_type": "code",
   "execution_count": null,
   "id": "bf59d9fc",
   "metadata": {},
   "outputs": [],
   "source": [
    "# Write a Python program which accepts the radius of a circle from the user and compute the area.\n",
    "r= int(input(\"Enter the radius of circle \"))\n",
    "\n",
    "A =3.142 * ( r * r)\n",
    "\n",
    "print('the radius of circle is '+ str(A))"
   ]
  },
  {
   "cell_type": "code",
   "execution_count": 27,
   "id": "616da646",
   "metadata": {},
   "outputs": [
    {
     "name": "stdout",
     "output_type": "stream",
     "text": [
      "please enter your first namemuhammad \n",
      "please enter your first lastowais\n",
      "owais muhammad \n"
     ]
    }
   ],
   "source": [
    "# Write a Python program which accepts the user's first and last name and print them in\n",
    "# reverse order with a space between them.\n",
    "first = input(\"please enter your first name\")\n",
    "last = input(\"please enter your first last\")\n",
    "print(last+\" \"+first)"
   ]
  },
  {
   "cell_type": "code",
   "execution_count": 28,
   "id": "5431f03e",
   "metadata": {},
   "outputs": [
    {
     "name": "stdout",
     "output_type": "stream",
     "text": [
      "enter your first number4\n",
      "enter your secpnd number2\n",
      "addition is : 6\n"
     ]
    }
   ],
   "source": [
    "#Write a python program which takes two inputs from user and print them addition\n",
    "x= int(input(\"enter your first number\"))\n",
    "y= int(input(\"enter your secpnd number\"))\n",
    "print(\"addition is :\", x+y)"
   ]
  },
  {
   "cell_type": "code",
   "execution_count": 29,
   "id": "b79ba654",
   "metadata": {},
   "outputs": [
    {
     "name": "stdout",
     "output_type": "stream",
     "text": [
      "i will make your mark sheet but before making it,i need to know your marks \n",
      "please type your marks Math 60\n",
      "please type your marks English 80\n",
      "please type your marks Chemistry 90\n",
      "please type your marks Physic 98\n",
      "please type your marks Biology 96\n",
      "your marksheet is ready\n",
      "Math = 60\n",
      "English = 80\n",
      "Chemistry = 90\n",
      "Physic = 98\n",
      "Biology = 96\n",
      "Total marks = 424\n",
      "% 84.8\n",
      "your Grade is A+\n"
     ]
    }
   ],
   "source": [
    "# Write a program which takes 5 inputs from user for different subject’s marks, total it\n",
    "# and generate mark sheet using grades ?\n",
    "print('i will make your mark sheet but before making it,i need to know your marks ')\n",
    "Math = input('please type your marks Math ')\n",
    "English = input('please type your marks English ')\n",
    "Chemistry = input('please type your marks Chemistry ')\n",
    "Physic = input('please type your marks Physic ')\n",
    "Biology = input('please type your marks Biology ')\n",
    "print('your marksheet is ready')\n",
    "print('Math = ' + Math)\n",
    "print('English = ' + English)\n",
    "print('Chemistry = '+ Chemistry)\n",
    "print('Physic = '+ Physic)\n",
    "print('Biology = '+ Biology)\n",
    "Total = int(Math) + int(English) + int(Chemistry) + int(Physic) + int(Biology)\n",
    "print('Total marks = ' + str(Total))\n",
    "Percentage =(Total/500)*100\n",
    "print('% ' + str(Percentage))\n",
    "if Total > 400 :\n",
    "    print('your Grade is A+')\n",
    "elif Total > 300 :\n",
    "    print('your Grade is A')\n",
    "elif Total > 200 :\n",
    "    print('your Grade is B')\n",
    "elif Total > 100 :\n",
    "    print('your Grade is C')\n",
    "else:\n",
    "    print('you fail')"
   ]
  },
  {
   "cell_type": "code",
   "execution_count": 43,
   "id": "abb98b28",
   "metadata": {},
   "outputs": [
    {
     "name": "stdout",
     "output_type": "stream",
     "text": [
      "Enter number3\n",
      "the number is not even\n",
      "Enter number3\n",
      "the number 3  is odd\n"
     ]
    }
   ],
   "source": [
    "# 8. Write a program which take input from user and identify that the given number is even\n",
    "# or odd?\n",
    "#For Even\n",
    "num = int(input(\"Enter number\"))\n",
    "\n",
    "if num%2==0:\n",
    "    print(\"the number\",num,\" is even\")\n",
    "else:\n",
    "    print(\"the number is not even\")\n",
    "# For odd\n",
    "num = int(input(\"Enter number\"))\n",
    "\n",
    "if num%2==1:\n",
    "    print(\"the number\",num,\" is odd\")\n",
    "else:\n",
    "    print(\"the number is not odd\")\n",
    "\n"
   ]
  },
  {
   "cell_type": "code",
   "execution_count": 47,
   "id": "5199e8be",
   "metadata": {},
   "outputs": [
    {
     "name": "stdout",
     "output_type": "stream",
     "text": [
      "5\n"
     ]
    }
   ],
   "source": [
    "# 9. Write a program which print the length of the list?\n",
    "num=[1,2,2,4,5]\n",
    "print(len(num))"
   ]
  },
  {
   "cell_type": "code",
   "execution_count": 48,
   "id": "3cf5b5d9",
   "metadata": {},
   "outputs": [
    {
     "name": "stdout",
     "output_type": "stream",
     "text": [
      "14\n"
     ]
    }
   ],
   "source": [
    "# 10.Write a Python program to sum all the numeric items in a list?\n",
    "num = [2,3,4,5]\n",
    "print(sum(num))"
   ]
  },
  {
   "cell_type": "code",
   "execution_count": 52,
   "id": "4140766f",
   "metadata": {},
   "outputs": [
    {
     "name": "stdout",
     "output_type": "stream",
     "text": [
      "12\n"
     ]
    }
   ],
   "source": [
    "# 11.Write a Python program to get the largest number from a numeric list.\n",
    "\n",
    "num=[4,3,12,5]\n",
    "max = num[0]\n",
    "for i in num:    \n",
    "    if i > max:\n",
    "        max = i\n",
    "print(max)            "
   ]
  },
  {
   "cell_type": "code",
   "execution_count": 6,
   "id": "631c1003",
   "metadata": {},
   "outputs": [
    {
     "name": "stdout",
     "output_type": "stream",
     "text": [
      "[1, 1, 2, 3]\n"
     ]
    }
   ],
   "source": [
    "# Take a list, say for example this one:\n",
    "a = [1, 1, 2, 3, 5, 8, 13, 21, 34, 55, 89]\n",
    "# Write a program that prints out all the elements of the list that are less than 5.\n",
    "b=[]\n",
    "for i in range(len(a)):\n",
    "    if 5>a[i] :\n",
    "        b.append(a[i])\n",
    "        \n",
    "print(b)          "
   ]
  }
 ],
 "metadata": {
  "kernelspec": {
   "display_name": "Python 3",
   "language": "python",
   "name": "python3"
  },
  "language_info": {
   "codemirror_mode": {
    "name": "ipython",
    "version": 3
   },
   "file_extension": ".py",
   "mimetype": "text/x-python",
   "name": "python",
   "nbconvert_exporter": "python",
   "pygments_lexer": "ipython3",
   "version": "3.8.8"
  }
 },
 "nbformat": 4,
 "nbformat_minor": 5
}
